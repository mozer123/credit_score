{
 "cells": [
  {
   "cell_type": "markdown",
   "metadata": {},
   "source": [
    "# WEEK 1: Data Exploration"
   ]
  },
  {
   "cell_type": "code",
   "execution_count": 1,
   "metadata": {},
   "outputs": [],
   "source": [
    "# Import libraries\n",
    "import pandas as pd\n",
    "import numpy as np\n",
    "import re\n",
    "from sklearn.model_selection import train_test_split"
   ]
  },
  {
   "cell_type": "code",
   "execution_count": null,
   "metadata": {},
   "outputs": [],
   "source": [
    "# Read datasets\n",
    "outflow = pd.read_parquet(\"ucsd-outflows.pqt\")\n",
    "inflow = pd.read_parquet(\"ucsd-inflows.pqt\")"
   ]
  },
  {
   "cell_type": "code",
   "execution_count": null,
   "metadata": {},
   "outputs": [],
   "source": [
    "# Statistical EDA\n",
    "# Observe unique transaction category and their counts\n",
    "print(outflow['category'].value_counts())\n",
    "print(inflow['category'].value_counts())\n",
    "\n",
    "print(outflow['amount'].describe())\n",
    "print(inflow['amount'].describe())\n",
    "\n",
    "print(outflow.groupby('category')['memo'].count())\n",
    "print(inflow.groupby('category')['memo'].count())"
   ]
  },
  {
   "cell_type": "code",
   "execution_count": null,
   "metadata": {},
   "outputs": [],
   "source": [
    "# Find most common merchants per category for outflow data\n",
    "\n",
    "outflows_top_merchants = outflow.groupby('category')['memo'].agg(lambda x: x.mode())\n",
    "outflows_top_merchants = outflows_top_merchants.reset_index()\n",
    "print(outflows_top_merchants[outflows_top_merchants['category'] != outflows_top_merchants['memo']])\n",
    "\n",
    "# Find most common merchants per category for inflow data\n",
    "\n",
    "inflows_top_merchants = inflow.groupby('category')['memo'].agg(lambda x: x.mode())\n",
    "inflows_top_merchants = inflows_top_merchants.reset_index()\n",
    "print(inflows_top_merchants)"
   ]
  }
 ],
 "metadata": {
  "kernelspec": {
   "display_name": "base",
   "language": "python",
   "name": "python3"
  },
  "language_info": {
   "codemirror_mode": {
    "name": "ipython",
    "version": 3
   },
   "file_extension": ".py",
   "mimetype": "text/x-python",
   "name": "python",
   "nbconvert_exporter": "python",
   "pygments_lexer": "ipython3",
   "version": "3.11.0"
  }
 },
 "nbformat": 4,
 "nbformat_minor": 2
}
