{
 "cells": [
  {
   "cell_type": "markdown",
   "metadata": {},
   "source": [
    "# WEEK 2: Train-Test Split and Check for Data Bias"
   ]
  },
  {
   "cell_type": "code",
   "execution_count": 1,
   "metadata": {},
   "outputs": [],
   "source": [
    "# Import libraries\n",
    "import pandas as pd\n",
    "import numpy as np\n",
    "import re\n",
    "from sklearn.model_selection import train_test_split"
   ]
  },
  {
   "cell_type": "code",
   "execution_count": null,
   "metadata": {},
   "outputs": [],
   "source": [
    "# Read datasets\n",
    "outflow = pd.read_parquet(\"ucsd-outflows.pqt\")\n",
    "inflow = pd.read_parquet(\"ucsd-inflows.pqt\")"
   ]
  },
  {
   "cell_type": "code",
   "execution_count": null,
   "metadata": {},
   "outputs": [],
   "source": [
    "# Conduct train-test split on dataset based on customer ids\n",
    "customer_id = outflow['prism_consumer_id'].unique()\n",
    "\n",
    "train_id, test_id = train_test_split(customer_id, test_size= 0.25, random_state = 42)\n",
    "\n",
    "train_data = outflow[outflow['prism_consumer_id'].isin(train_id)]\n",
    "test_data = outflow[outflow['prism_consumer_id'].isin(test_id)]\n",
    "\n",
    "# Print stats to check for consistency\n",
    "print(train_data['memo'].describe())\n",
    "print(test_data['memo'].describe())\n",
    "print(train_data['memo'].value_counts().head() / len(train_data))\n",
    "print(test_data['memo'].value_counts().head() / len(test_data))"
   ]
  },
  {
   "cell_type": "code",
   "execution_count": null,
   "metadata": {},
   "outputs": [],
   "source": [
    "# Conduct Chi-squared test"
   ]
  }
 ],
 "metadata": {
  "kernelspec": {
   "display_name": "base",
   "language": "python",
   "name": "python3"
  },
  "language_info": {
   "codemirror_mode": {
    "name": "ipython",
    "version": 3
   },
   "file_extension": ".py",
   "mimetype": "text/x-python",
   "name": "python",
   "nbconvert_exporter": "python",
   "pygments_lexer": "ipython3",
   "version": "3.11.0"
  }
 },
 "nbformat": 4,
 "nbformat_minor": 2
}
