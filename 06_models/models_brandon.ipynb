{
 "cells": [
  {
   "cell_type": "code",
   "execution_count": 1,
   "id": "0833f02a-1f94-4928-b8a8-1eca78bfe421",
   "metadata": {},
   "outputs": [
    {
     "name": "stderr",
     "output_type": "stream",
     "text": [
      "2024-11-15 09:44:53.419155: I tensorflow/core/util/port.cc:113] oneDNN custom operations are on. You may see slightly different numerical results due to floating-point round-off errors from different computation orders. To turn them off, set the environment variable `TF_ENABLE_ONEDNN_OPTS=0`.\n",
      "2024-11-15 09:44:53.462779: E external/local_xla/xla/stream_executor/cuda/cuda_dnn.cc:9261] Unable to register cuDNN factory: Attempting to register factory for plugin cuDNN when one has already been registered\n",
      "2024-11-15 09:44:53.462803: E external/local_xla/xla/stream_executor/cuda/cuda_fft.cc:607] Unable to register cuFFT factory: Attempting to register factory for plugin cuFFT when one has already been registered\n",
      "2024-11-15 09:44:53.464205: E external/local_xla/xla/stream_executor/cuda/cuda_blas.cc:1515] Unable to register cuBLAS factory: Attempting to register factory for plugin cuBLAS when one has already been registered\n",
      "2024-11-15 09:44:53.472583: I tensorflow/core/platform/cpu_feature_guard.cc:182] This TensorFlow binary is optimized to use available CPU instructions in performance-critical operations.\n",
      "To enable the following instructions: AVX2 AVX512F AVX512_VNNI FMA, in other operations, rebuild TensorFlow with the appropriate compiler flags.\n"
     ]
    }
   ],
   "source": [
    "import numpy as np\n",
    "import pandas as pd\n",
    "import matplotlib.pyplot as plt\n",
    "import seaborn as sns\n",
    "import re\n",
    "from sklearn.model_selection import train_test_split\n",
    "from sklearn.pipeline import Pipeline\n",
    "from sklearn.feature_extraction.text import TfidfVectorizer\n",
    "from sklearn.compose import ColumnTransformer\n",
    "from sklearn.metrics import classification_report, confusion_matrix, f1_score, accuracy_score\n",
    "from sklearn.base import BaseEstimator, TransformerMixin\n",
    "from sklearn.preprocessing import FunctionTransformer, OneHotEncoder, QuantileTransformer, LabelEncoder\n",
    "from sklearn.ensemble import RandomForestClassifier, AdaBoostClassifier, GradientBoostingClassifier, StackingClassifier\n",
    "from sklearn.linear_model import LogisticRegression\n",
    "from sklearn.tree import DecisionTreeClassifier\n",
    "from transformers import AutoTokenizer, RobertaForSequenceClassification\n",
    "import torch\n",
    "from transformers import Trainer, TrainingArguments\n",
    "from datasets import Dataset\n",
    "from sklearn.impute import SimpleImputer"
   ]
  },
  {
   "cell_type": "code",
   "execution_count": 2,
   "id": "9c1a2256-23fc-4e80-bef1-508a4edb8d5e",
   "metadata": {},
   "outputs": [],
   "source": [
    "outflows = pd.read_parquet('data/outflows.pqt')\n",
    "outflows.posted_date = pd.to_datetime(outflows.posted_date, format='%Y-%m-%d')\n",
    "\n",
    "categories = ['GENERAL_MERCHANDISE', 'FOOD_AND_BEVERAGES', 'GROCERIES', 'TRAVEL', 'PETS', 'MORTGAGE', 'OVERDRAFT', 'EDUCATION', 'RENT']\n",
    "outflows = outflows[outflows.category.isin(categories)]"
   ]
  },
  {
   "cell_type": "code",
   "execution_count": 3,
   "id": "e9ac597c-cf42-4f8b-a78a-608bcce9f936",
   "metadata": {},
   "outputs": [
    {
     "data": {
      "text/html": [
       "<div>\n",
       "<style scoped>\n",
       "    .dataframe tbody tr th:only-of-type {\n",
       "        vertical-align: middle;\n",
       "    }\n",
       "\n",
       "    .dataframe tbody tr th {\n",
       "        vertical-align: top;\n",
       "    }\n",
       "\n",
       "    .dataframe thead th {\n",
       "        text-align: right;\n",
       "    }\n",
       "</style>\n",
       "<table border=\"1\" class=\"dataframe\">\n",
       "  <thead>\n",
       "    <tr style=\"text-align: right;\">\n",
       "      <th></th>\n",
       "      <th>memo</th>\n",
       "      <th>new_memo</th>\n",
       "    </tr>\n",
       "  </thead>\n",
       "  <tbody>\n",
       "    <tr>\n",
       "      <th>2</th>\n",
       "      <td>TST* Casa Del Rio - Exp Fairlawn OH 09/24</td>\n",
       "      <td>tst casa del rio exp fairlawn oh 09 24</td>\n",
       "    </tr>\n",
       "    <tr>\n",
       "      <th>4</th>\n",
       "      <td>Buffalo Wild Wings</td>\n",
       "      <td>buffalo wild wings</td>\n",
       "    </tr>\n",
       "    <tr>\n",
       "      <th>6</th>\n",
       "      <td>Oculus CA 04/16</td>\n",
       "      <td>oculus ca 04 16</td>\n",
       "    </tr>\n",
       "    <tr>\n",
       "      <th>7</th>\n",
       "      <td>LOS GIRASOLES STOW OH 03/08</td>\n",
       "      <td>los girasoles stow oh 03 08</td>\n",
       "    </tr>\n",
       "    <tr>\n",
       "      <th>8</th>\n",
       "      <td>BUZZIS LAUNDRY 1 OH 03/28</td>\n",
       "      <td>buzzis laundry 1 oh 03 28</td>\n",
       "    </tr>\n",
       "    <tr>\n",
       "      <th>...</th>\n",
       "      <td>...</td>\n",
       "      <td>...</td>\n",
       "    </tr>\n",
       "    <tr>\n",
       "      <th>2597457</th>\n",
       "      <td>DEBIT CARD WITHDRAWAL PURCHASEAmazon Prime*TI4...</td>\n",
       "      <td>debit card withdrawal purchase amazon prime ti...</td>\n",
       "    </tr>\n",
       "    <tr>\n",
       "      <th>2597462</th>\n",
       "      <td>POS WITHDRAWALAZ LOT QUIKTRIP XXXX XXXX E INDI...</td>\n",
       "      <td>pos withdrawal az lot quiktrip e indian school...</td>\n",
       "    </tr>\n",
       "    <tr>\n",
       "      <th>2597465</th>\n",
       "      <td>POS WITHDRAWALWAL-MART #XXXX XXXX E MCKELLIPS ...</td>\n",
       "      <td>pos withdrawal wal mart e mckellips rd mesa az...</td>\n",
       "    </tr>\n",
       "    <tr>\n",
       "      <th>2597468</th>\n",
       "      <td>WITHDRAWAL Salt River ProjeTYPE: ONLINE PMT CO...</td>\n",
       "      <td>withdrawal salt river projetype online pmt co ...</td>\n",
       "    </tr>\n",
       "    <tr>\n",
       "      <th>2597476</th>\n",
       "      <td>POS WITHDRAWALFRYS-FOOD-DRG #1 435 S. E MESA A...</td>\n",
       "      <td>pos withdrawal frys food drg 1 435 s e mesa az...</td>\n",
       "    </tr>\n",
       "  </tbody>\n",
       "</table>\n",
       "<p>1306452 rows × 2 columns</p>\n",
       "</div>"
      ],
      "text/plain": [
       "                                                      memo  \\\n",
       "2                TST* Casa Del Rio - Exp Fairlawn OH 09/24   \n",
       "4                                       Buffalo Wild Wings   \n",
       "6                                          Oculus CA 04/16   \n",
       "7                              LOS GIRASOLES STOW OH 03/08   \n",
       "8                                BUZZIS LAUNDRY 1 OH 03/28   \n",
       "...                                                    ...   \n",
       "2597457  DEBIT CARD WITHDRAWAL PURCHASEAmazon Prime*TI4...   \n",
       "2597462  POS WITHDRAWALAZ LOT QUIKTRIP XXXX XXXX E INDI...   \n",
       "2597465  POS WITHDRAWALWAL-MART #XXXX XXXX E MCKELLIPS ...   \n",
       "2597468  WITHDRAWAL Salt River ProjeTYPE: ONLINE PMT CO...   \n",
       "2597476  POS WITHDRAWALFRYS-FOOD-DRG #1 435 S. E MESA A...   \n",
       "\n",
       "                                                  new_memo  \n",
       "2                   tst casa del rio exp fairlawn oh 09 24  \n",
       "4                                       buffalo wild wings  \n",
       "6                                          oculus ca 04 16  \n",
       "7                              los girasoles stow oh 03 08  \n",
       "8                                buzzis laundry 1 oh 03 28  \n",
       "...                                                    ...  \n",
       "2597457  debit card withdrawal purchase amazon prime ti...  \n",
       "2597462  pos withdrawal az lot quiktrip e indian school...  \n",
       "2597465  pos withdrawal wal mart e mckellips rd mesa az...  \n",
       "2597468  withdrawal salt river projetype online pmt co ...  \n",
       "2597476  pos withdrawal frys food drg 1 435 s e mesa az...  \n",
       "\n",
       "[1306452 rows x 2 columns]"
      ]
     },
     "execution_count": 3,
     "metadata": {},
     "output_type": "execute_result"
    }
   ],
   "source": [
    "outflows['new_memo'] = outflows.memo.str.lower().str.replace(r'\\*(\\S)', r' \\1', regex=True)     # Remove all '*' but gotta check if there's any alphanumerics right after it\n",
    "outflows['new_memo'] = outflows.new_memo.str.replace(r'[^a-z0-9]', ' ', regex=True)             # Remove all special chars (besides .)\n",
    "outflows['new_memo'] = outflows.new_memo.str.replace(r'x{3,}', ' ', regex=True)                 # Remove all triple X's\n",
    "outflows['new_memo'] = outflows.new_memo.str.replace(r'withdrawal', 'withdrawal ', regex=True)  # Fixing the withdrawal rows\n",
    "outflows['new_memo'] = outflows.new_memo.str.replace(r'purchase', 'purchase ', regex=True)      # Fixing the purchase rows\n",
    "outflows['new_memo'] = outflows.new_memo.str.replace(r'\\s+', ' ', regex=True).str.strip()       # Remove any extra whitespace\n",
    "\n",
    "outflows = outflows[['prism_consumer_id', 'prism_account_id', 'memo', 'new_memo', 'amount',\t'posted_date', 'category']]\n",
    "outflows[['memo', 'new_memo']]"
   ]
  },
  {
   "cell_type": "code",
   "execution_count": 4,
   "id": "f0affb16",
   "metadata": {},
   "outputs": [
    {
     "data": {
      "text/plain": [
       "category\n",
       "GENERAL_MERCHANDISE    40.113452\n",
       "FOOD_AND_BEVERAGES     36.893357\n",
       "GROCERIES              16.788294\n",
       "TRAVEL                  4.565571\n",
       "PETS                    0.709249\n",
       "EDUCATION               0.344368\n",
       "OVERDRAFT               0.259175\n",
       "RENT                    0.240881\n",
       "MORTGAGE                0.085652\n",
       "Name: proportion, dtype: float64"
      ]
     },
     "execution_count": 4,
     "metadata": {},
     "output_type": "execute_result"
    }
   ],
   "source": [
    "outflows.category.value_counts(normalize=True) * 100"
   ]
  },
  {
   "cell_type": "code",
   "execution_count": 5,
   "id": "c0e7fa7d-ae6c-4e22-8084-da7913688b07",
   "metadata": {},
   "outputs": [
    {
     "data": {
      "text/plain": [
       "category\n",
       "GENERAL_MERCHANDISE    524063\n",
       "FOOD_AND_BEVERAGES     481994\n",
       "GROCERIES              219331\n",
       "TRAVEL                  59647\n",
       "PETS                     9266\n",
       "EDUCATION                4499\n",
       "OVERDRAFT                3386\n",
       "RENT                     3147\n",
       "MORTGAGE                 1119\n",
       "Name: count, dtype: int64"
      ]
     },
     "execution_count": 5,
     "metadata": {},
     "output_type": "execute_result"
    }
   ],
   "source": [
    "outflows.category.value_counts()"
   ]
  },
  {
   "cell_type": "code",
   "execution_count": 6,
   "id": "ed6b43f5-fd70-49d0-bfa7-90647254122b",
   "metadata": {},
   "outputs": [],
   "source": [
    "outflows.drop(columns='memo', inplace=True)"
   ]
  },
  {
   "cell_type": "markdown",
   "id": "fd2619dc",
   "metadata": {},
   "source": [
    "## Data Splitting:"
   ]
  },
  {
   "cell_type": "code",
   "execution_count": 7,
   "id": "9e842dcd",
   "metadata": {},
   "outputs": [
    {
     "data": {
      "text/plain": [
       "(922256, 384196)"
      ]
     },
     "execution_count": 7,
     "metadata": {},
     "output_type": "execute_result"
    }
   ],
   "source": [
    "np.random.seed(42069)\n",
    "\n",
    "# Splitting based on prism_consumer_id:\n",
    "cids = outflows.prism_consumer_id.unique()\n",
    "train_cids, test_cids = train_test_split(cids, test_size=0.3, random_state=420) # 70 / 30 split\n",
    "\n",
    "# Features and labels for train and test sets:\n",
    "X_train = outflows[outflows.prism_consumer_id.isin(train_cids)]\n",
    "X_test  = outflows[outflows.prism_consumer_id.isin(test_cids)]\n",
    "\n",
    "y_train = X_train.category\n",
    "y_test  = X_test.category\n",
    "\n",
    "len(X_train), len(X_test)"
   ]
  },
  {
   "cell_type": "markdown",
   "id": "769dc247",
   "metadata": {},
   "source": [
    "## Feature Engineering:"
   ]
  },
  {
   "cell_type": "markdown",
   "id": "996086ed",
   "metadata": {},
   "source": [
    "- posted_date based:"
   ]
  },
  {
   "cell_type": "code",
   "execution_count": 8,
   "id": "88ff537e",
   "metadata": {},
   "outputs": [
    {
     "name": "stderr",
     "output_type": "stream",
     "text": [
      "/tmp/ipykernel_4064/316536858.py:1: SettingWithCopyWarning: \n",
      "A value is trying to be set on a copy of a slice from a DataFrame.\n",
      "Try using .loc[row_indexer,col_indexer] = value instead\n",
      "\n",
      "See the caveats in the documentation: https://pandas.pydata.org/pandas-docs/stable/user_guide/indexing.html#returning-a-view-versus-a-copy\n",
      "  X_train['month_name'] = X_train.posted_date.dt.month_name()\n",
      "/tmp/ipykernel_4064/316536858.py:2: SettingWithCopyWarning: \n",
      "A value is trying to be set on a copy of a slice from a DataFrame.\n",
      "Try using .loc[row_indexer,col_indexer] = value instead\n",
      "\n",
      "See the caveats in the documentation: https://pandas.pydata.org/pandas-docs/stable/user_guide/indexing.html#returning-a-view-versus-a-copy\n",
      "  X_train['day_name'] = X_train.posted_date.dt.day_name()\n"
     ]
    }
   ],
   "source": [
    "X_train['month_name'] = X_train.posted_date.dt.month_name()\n",
    "X_train['day_name'] = X_train.posted_date.dt.day_name()\n",
    "\n",
    "X_train = pd.get_dummies(X_train, columns=['month_name', 'day_name'])"
   ]
  },
  {
   "cell_type": "markdown",
   "id": "97446a52",
   "metadata": {},
   "source": [
    "- amount based:"
   ]
  },
  {
   "cell_type": "code",
   "execution_count": 9,
   "id": "c598e09f",
   "metadata": {},
   "outputs": [],
   "source": [
    "def is_whole(num):\n",
    "    return num % 1 == 0"
   ]
  },
  {
   "cell_type": "code",
   "execution_count": 10,
   "id": "52b11515",
   "metadata": {},
   "outputs": [],
   "source": [
    "X_train['is_whole_num'] = X_train.amount.apply(is_whole)"
   ]
  },
  {
   "cell_type": "code",
   "execution_count": 11,
   "id": "62528b42",
   "metadata": {},
   "outputs": [
    {
     "data": {
      "text/html": [
       "<div>\n",
       "<style scoped>\n",
       "    .dataframe tbody tr th:only-of-type {\n",
       "        vertical-align: middle;\n",
       "    }\n",
       "\n",
       "    .dataframe tbody tr th {\n",
       "        vertical-align: top;\n",
       "    }\n",
       "\n",
       "    .dataframe thead th {\n",
       "        text-align: right;\n",
       "    }\n",
       "</style>\n",
       "<table border=\"1\" class=\"dataframe\">\n",
       "  <thead>\n",
       "    <tr style=\"text-align: right;\">\n",
       "      <th></th>\n",
       "      <th>prism_consumer_id</th>\n",
       "      <th>prism_account_id</th>\n",
       "      <th>new_memo</th>\n",
       "      <th>amount</th>\n",
       "      <th>posted_date</th>\n",
       "      <th>category</th>\n",
       "      <th>month_name_April</th>\n",
       "      <th>month_name_August</th>\n",
       "      <th>month_name_December</th>\n",
       "      <th>month_name_February</th>\n",
       "      <th>...</th>\n",
       "      <th>month_name_October</th>\n",
       "      <th>month_name_September</th>\n",
       "      <th>day_name_Friday</th>\n",
       "      <th>day_name_Monday</th>\n",
       "      <th>day_name_Saturday</th>\n",
       "      <th>day_name_Sunday</th>\n",
       "      <th>day_name_Thursday</th>\n",
       "      <th>day_name_Tuesday</th>\n",
       "      <th>day_name_Wednesday</th>\n",
       "      <th>is_whole_num</th>\n",
       "    </tr>\n",
       "  </thead>\n",
       "  <tbody>\n",
       "    <tr>\n",
       "      <th>2</th>\n",
       "      <td>0</td>\n",
       "      <td>acc_0</td>\n",
       "      <td>tst casa del rio exp fairlawn oh 09 24</td>\n",
       "      <td>18.42</td>\n",
       "      <td>2022-09-26</td>\n",
       "      <td>FOOD_AND_BEVERAGES</td>\n",
       "      <td>False</td>\n",
       "      <td>False</td>\n",
       "      <td>False</td>\n",
       "      <td>False</td>\n",
       "      <td>...</td>\n",
       "      <td>False</td>\n",
       "      <td>True</td>\n",
       "      <td>False</td>\n",
       "      <td>True</td>\n",
       "      <td>False</td>\n",
       "      <td>False</td>\n",
       "      <td>False</td>\n",
       "      <td>False</td>\n",
       "      <td>False</td>\n",
       "      <td>False</td>\n",
       "    </tr>\n",
       "    <tr>\n",
       "      <th>4</th>\n",
       "      <td>0</td>\n",
       "      <td>acc_0</td>\n",
       "      <td>buffalo wild wings</td>\n",
       "      <td>26.47</td>\n",
       "      <td>2022-09-12</td>\n",
       "      <td>FOOD_AND_BEVERAGES</td>\n",
       "      <td>False</td>\n",
       "      <td>False</td>\n",
       "      <td>False</td>\n",
       "      <td>False</td>\n",
       "      <td>...</td>\n",
       "      <td>False</td>\n",
       "      <td>True</td>\n",
       "      <td>False</td>\n",
       "      <td>True</td>\n",
       "      <td>False</td>\n",
       "      <td>False</td>\n",
       "      <td>False</td>\n",
       "      <td>False</td>\n",
       "      <td>False</td>\n",
       "      <td>False</td>\n",
       "    </tr>\n",
       "    <tr>\n",
       "      <th>6</th>\n",
       "      <td>0</td>\n",
       "      <td>acc_0</td>\n",
       "      <td>oculus ca 04 16</td>\n",
       "      <td>11.73</td>\n",
       "      <td>2022-04-18</td>\n",
       "      <td>GENERAL_MERCHANDISE</td>\n",
       "      <td>True</td>\n",
       "      <td>False</td>\n",
       "      <td>False</td>\n",
       "      <td>False</td>\n",
       "      <td>...</td>\n",
       "      <td>False</td>\n",
       "      <td>False</td>\n",
       "      <td>False</td>\n",
       "      <td>True</td>\n",
       "      <td>False</td>\n",
       "      <td>False</td>\n",
       "      <td>False</td>\n",
       "      <td>False</td>\n",
       "      <td>False</td>\n",
       "      <td>False</td>\n",
       "    </tr>\n",
       "    <tr>\n",
       "      <th>7</th>\n",
       "      <td>0</td>\n",
       "      <td>acc_0</td>\n",
       "      <td>los girasoles stow oh 03 08</td>\n",
       "      <td>30.04</td>\n",
       "      <td>2022-03-09</td>\n",
       "      <td>FOOD_AND_BEVERAGES</td>\n",
       "      <td>False</td>\n",
       "      <td>False</td>\n",
       "      <td>False</td>\n",
       "      <td>False</td>\n",
       "      <td>...</td>\n",
       "      <td>False</td>\n",
       "      <td>False</td>\n",
       "      <td>False</td>\n",
       "      <td>False</td>\n",
       "      <td>False</td>\n",
       "      <td>False</td>\n",
       "      <td>False</td>\n",
       "      <td>False</td>\n",
       "      <td>True</td>\n",
       "      <td>False</td>\n",
       "    </tr>\n",
       "    <tr>\n",
       "      <th>8</th>\n",
       "      <td>0</td>\n",
       "      <td>acc_0</td>\n",
       "      <td>buzzis laundry 1 oh 03 28</td>\n",
       "      <td>4.16</td>\n",
       "      <td>2022-03-29</td>\n",
       "      <td>GENERAL_MERCHANDISE</td>\n",
       "      <td>False</td>\n",
       "      <td>False</td>\n",
       "      <td>False</td>\n",
       "      <td>False</td>\n",
       "      <td>...</td>\n",
       "      <td>False</td>\n",
       "      <td>False</td>\n",
       "      <td>False</td>\n",
       "      <td>False</td>\n",
       "      <td>False</td>\n",
       "      <td>False</td>\n",
       "      <td>False</td>\n",
       "      <td>True</td>\n",
       "      <td>False</td>\n",
       "      <td>False</td>\n",
       "    </tr>\n",
       "    <tr>\n",
       "      <th>...</th>\n",
       "      <td>...</td>\n",
       "      <td>...</td>\n",
       "      <td>...</td>\n",
       "      <td>...</td>\n",
       "      <td>...</td>\n",
       "      <td>...</td>\n",
       "      <td>...</td>\n",
       "      <td>...</td>\n",
       "      <td>...</td>\n",
       "      <td>...</td>\n",
       "      <td>...</td>\n",
       "      <td>...</td>\n",
       "      <td>...</td>\n",
       "      <td>...</td>\n",
       "      <td>...</td>\n",
       "      <td>...</td>\n",
       "      <td>...</td>\n",
       "      <td>...</td>\n",
       "      <td>...</td>\n",
       "      <td>...</td>\n",
       "      <td>...</td>\n",
       "    </tr>\n",
       "    <tr>\n",
       "      <th>2597457</th>\n",
       "      <td>5941</td>\n",
       "      <td>acc_9524</td>\n",
       "      <td>debit card withdrawal purchase amazon prime ti...</td>\n",
       "      <td>15.93</td>\n",
       "      <td>2023-01-16</td>\n",
       "      <td>GENERAL_MERCHANDISE</td>\n",
       "      <td>False</td>\n",
       "      <td>False</td>\n",
       "      <td>False</td>\n",
       "      <td>False</td>\n",
       "      <td>...</td>\n",
       "      <td>False</td>\n",
       "      <td>False</td>\n",
       "      <td>False</td>\n",
       "      <td>True</td>\n",
       "      <td>False</td>\n",
       "      <td>False</td>\n",
       "      <td>False</td>\n",
       "      <td>False</td>\n",
       "      <td>False</td>\n",
       "      <td>False</td>\n",
       "    </tr>\n",
       "    <tr>\n",
       "      <th>2597462</th>\n",
       "      <td>5941</td>\n",
       "      <td>acc_9524</td>\n",
       "      <td>pos withdrawal az lot quiktrip e indian school...</td>\n",
       "      <td>25.00</td>\n",
       "      <td>2023-01-18</td>\n",
       "      <td>EDUCATION</td>\n",
       "      <td>False</td>\n",
       "      <td>False</td>\n",
       "      <td>False</td>\n",
       "      <td>False</td>\n",
       "      <td>...</td>\n",
       "      <td>False</td>\n",
       "      <td>False</td>\n",
       "      <td>False</td>\n",
       "      <td>False</td>\n",
       "      <td>False</td>\n",
       "      <td>False</td>\n",
       "      <td>False</td>\n",
       "      <td>False</td>\n",
       "      <td>True</td>\n",
       "      <td>True</td>\n",
       "    </tr>\n",
       "    <tr>\n",
       "      <th>2597465</th>\n",
       "      <td>5941</td>\n",
       "      <td>acc_9524</td>\n",
       "      <td>pos withdrawal wal mart e mckellips rd mesa az...</td>\n",
       "      <td>3.68</td>\n",
       "      <td>2023-01-18</td>\n",
       "      <td>FOOD_AND_BEVERAGES</td>\n",
       "      <td>False</td>\n",
       "      <td>False</td>\n",
       "      <td>False</td>\n",
       "      <td>False</td>\n",
       "      <td>...</td>\n",
       "      <td>False</td>\n",
       "      <td>False</td>\n",
       "      <td>False</td>\n",
       "      <td>False</td>\n",
       "      <td>False</td>\n",
       "      <td>False</td>\n",
       "      <td>False</td>\n",
       "      <td>False</td>\n",
       "      <td>True</td>\n",
       "      <td>False</td>\n",
       "    </tr>\n",
       "    <tr>\n",
       "      <th>2597468</th>\n",
       "      <td>5941</td>\n",
       "      <td>acc_9524</td>\n",
       "      <td>withdrawal salt river projetype online pmt co ...</td>\n",
       "      <td>90.00</td>\n",
       "      <td>2023-01-20</td>\n",
       "      <td>FOOD_AND_BEVERAGES</td>\n",
       "      <td>False</td>\n",
       "      <td>False</td>\n",
       "      <td>False</td>\n",
       "      <td>False</td>\n",
       "      <td>...</td>\n",
       "      <td>False</td>\n",
       "      <td>False</td>\n",
       "      <td>True</td>\n",
       "      <td>False</td>\n",
       "      <td>False</td>\n",
       "      <td>False</td>\n",
       "      <td>False</td>\n",
       "      <td>False</td>\n",
       "      <td>False</td>\n",
       "      <td>True</td>\n",
       "    </tr>\n",
       "    <tr>\n",
       "      <th>2597476</th>\n",
       "      <td>5941</td>\n",
       "      <td>acc_9524</td>\n",
       "      <td>pos withdrawal frys food drg 1 435 s e mesa az...</td>\n",
       "      <td>7.74</td>\n",
       "      <td>2023-01-21</td>\n",
       "      <td>FOOD_AND_BEVERAGES</td>\n",
       "      <td>False</td>\n",
       "      <td>False</td>\n",
       "      <td>False</td>\n",
       "      <td>False</td>\n",
       "      <td>...</td>\n",
       "      <td>False</td>\n",
       "      <td>False</td>\n",
       "      <td>False</td>\n",
       "      <td>False</td>\n",
       "      <td>True</td>\n",
       "      <td>False</td>\n",
       "      <td>False</td>\n",
       "      <td>False</td>\n",
       "      <td>False</td>\n",
       "      <td>False</td>\n",
       "    </tr>\n",
       "  </tbody>\n",
       "</table>\n",
       "<p>922256 rows × 26 columns</p>\n",
       "</div>"
      ],
      "text/plain": [
       "         prism_consumer_id prism_account_id  \\\n",
       "2                        0            acc_0   \n",
       "4                        0            acc_0   \n",
       "6                        0            acc_0   \n",
       "7                        0            acc_0   \n",
       "8                        0            acc_0   \n",
       "...                    ...              ...   \n",
       "2597457               5941         acc_9524   \n",
       "2597462               5941         acc_9524   \n",
       "2597465               5941         acc_9524   \n",
       "2597468               5941         acc_9524   \n",
       "2597476               5941         acc_9524   \n",
       "\n",
       "                                                  new_memo  amount  \\\n",
       "2                   tst casa del rio exp fairlawn oh 09 24   18.42   \n",
       "4                                       buffalo wild wings   26.47   \n",
       "6                                          oculus ca 04 16   11.73   \n",
       "7                              los girasoles stow oh 03 08   30.04   \n",
       "8                                buzzis laundry 1 oh 03 28    4.16   \n",
       "...                                                    ...     ...   \n",
       "2597457  debit card withdrawal purchase amazon prime ti...   15.93   \n",
       "2597462  pos withdrawal az lot quiktrip e indian school...   25.00   \n",
       "2597465  pos withdrawal wal mart e mckellips rd mesa az...    3.68   \n",
       "2597468  withdrawal salt river projetype online pmt co ...   90.00   \n",
       "2597476  pos withdrawal frys food drg 1 435 s e mesa az...    7.74   \n",
       "\n",
       "        posted_date             category  month_name_April  month_name_August  \\\n",
       "2        2022-09-26   FOOD_AND_BEVERAGES             False              False   \n",
       "4        2022-09-12   FOOD_AND_BEVERAGES             False              False   \n",
       "6        2022-04-18  GENERAL_MERCHANDISE              True              False   \n",
       "7        2022-03-09   FOOD_AND_BEVERAGES             False              False   \n",
       "8        2022-03-29  GENERAL_MERCHANDISE             False              False   \n",
       "...             ...                  ...               ...                ...   \n",
       "2597457  2023-01-16  GENERAL_MERCHANDISE             False              False   \n",
       "2597462  2023-01-18            EDUCATION             False              False   \n",
       "2597465  2023-01-18   FOOD_AND_BEVERAGES             False              False   \n",
       "2597468  2023-01-20   FOOD_AND_BEVERAGES             False              False   \n",
       "2597476  2023-01-21   FOOD_AND_BEVERAGES             False              False   \n",
       "\n",
       "         month_name_December  month_name_February  ...  month_name_October  \\\n",
       "2                      False                False  ...               False   \n",
       "4                      False                False  ...               False   \n",
       "6                      False                False  ...               False   \n",
       "7                      False                False  ...               False   \n",
       "8                      False                False  ...               False   \n",
       "...                      ...                  ...  ...                 ...   \n",
       "2597457                False                False  ...               False   \n",
       "2597462                False                False  ...               False   \n",
       "2597465                False                False  ...               False   \n",
       "2597468                False                False  ...               False   \n",
       "2597476                False                False  ...               False   \n",
       "\n",
       "         month_name_September  day_name_Friday  day_name_Monday  \\\n",
       "2                        True            False             True   \n",
       "4                        True            False             True   \n",
       "6                       False            False             True   \n",
       "7                       False            False            False   \n",
       "8                       False            False            False   \n",
       "...                       ...              ...              ...   \n",
       "2597457                 False            False             True   \n",
       "2597462                 False            False            False   \n",
       "2597465                 False            False            False   \n",
       "2597468                 False             True            False   \n",
       "2597476                 False            False            False   \n",
       "\n",
       "         day_name_Saturday  day_name_Sunday  day_name_Thursday  \\\n",
       "2                    False            False              False   \n",
       "4                    False            False              False   \n",
       "6                    False            False              False   \n",
       "7                    False            False              False   \n",
       "8                    False            False              False   \n",
       "...                    ...              ...                ...   \n",
       "2597457              False            False              False   \n",
       "2597462              False            False              False   \n",
       "2597465              False            False              False   \n",
       "2597468              False            False              False   \n",
       "2597476               True            False              False   \n",
       "\n",
       "         day_name_Tuesday  day_name_Wednesday  is_whole_num  \n",
       "2                   False               False         False  \n",
       "4                   False               False         False  \n",
       "6                   False               False         False  \n",
       "7                   False                True         False  \n",
       "8                    True               False         False  \n",
       "...                   ...                 ...           ...  \n",
       "2597457             False               False         False  \n",
       "2597462             False                True          True  \n",
       "2597465             False                True         False  \n",
       "2597468             False               False          True  \n",
       "2597476             False               False         False  \n",
       "\n",
       "[922256 rows x 26 columns]"
      ]
     },
     "execution_count": 11,
     "metadata": {},
     "output_type": "execute_result"
    }
   ],
   "source": [
    "X_train"
   ]
  },
  {
   "cell_type": "markdown",
   "id": "e0ca37e1",
   "metadata": {},
   "source": [
    "## Hybrid Classifier (Rule-Based and Logisitic Regression w/ TF-IDF Features):"
   ]
  },
  {
   "cell_type": "markdown",
   "id": "683b4a68",
   "metadata": {},
   "source": [
    "## Facts from Years 2017-2023:\n",
    "### 1. **Taxes**\n",
    "   - **Income Taxes (U.S.):** Still typically due on **April 15** each year, except when April 15 falls on a weekend or holiday (when it’s moved to the next business day). \n",
    "     - There were some exceptions in 2020 and 2021 due to the COVID-19 pandemic:\n",
    "       - **2020 (for 2019 taxes):** The deadline was extended to **July 15, 2020**.\n",
    "       - **2021 (for 2020 taxes):** The deadline was extended to **May 17, 2021**.\n",
    "   - **Property Taxes:** Due dates for property taxes generally remained the same, varying by state or county. Many areas continued to have semiannual or annual payment deadlines, often in **March, September,** or **November**.\n",
    "\n",
    "### 2. **Rent**\n",
    "   - Rent due dates have consistently been on the **first of the month**. This standard practice hasn't changed, although individual landlords or properties might have made temporary adjustments in 2020 and 2021 to accommodate COVID-19-related hardships. Some cities and states had temporary eviction moratoriums, allowing renters more flexibility in paying.\n",
    "\n",
    "### 3. **Mortgage**\n",
    "   - Mortgage payments are still generally due on the **first of the month**, with a typical grace period until the 15th. This standard has not changed in recent years.\n",
    "   - In 2020 and 2021, there were temporary mortgage forbearance programs in the U.S. as part of COVID-19 relief efforts, allowing some borrowers to defer payments without penalties. However, the due dates for regular payments remained the same once the forbearance periods ended.\n",
    "\n",
    "### 4. **Education Fees for College/School**\n",
    "   - **Semester Deadlines:** Still typically due in **July or August** for the fall semester and **December or January** for the spring semester. These deadlines have been consistent for many years.\n",
    "   - **Monthly or Quarterly Payment Plans:** Institutions continue to offer these options for spreading payments over several months, typically with the first payment due a month or two before the semester starts.\n",
    "   - During 2020, some institutions provided more flexible payment options due to the pandemic, but the overall payment schedules were largely unchanged."
   ]
  },
  {
   "cell_type": "code",
   "execution_count": 12,
   "id": "8a868840-cc99-4b8a-a58c-a141efec6d72",
   "metadata": {},
   "outputs": [],
   "source": [
    "# [memo for memo in outflows[(outflows.category == 'GROCERIES')&(~outflows.new_memo.str.contains('groceries'))]['new_memo'].values]"
   ]
  },
  {
   "cell_type": "markdown",
   "id": "c392d45a",
   "metadata": {},
   "source": [
    "## Self-Observed Features:\n",
    "    - TST = Food & Beverages\n",
    "    - POS: tells you it's not a check, but that's about it\n",
    "    - OVERDRAFT: memo will state if a transaction is overdraft (transaction causes an account to have a balance of zero/under zero)\n",
    "    - PETS: will say pets/pet store names\n",
    "    - EDUCATION: will contain school, college, university, etc.\n",
    "    - Nov/Dec = GM\n",
    "    - Apr/May = Taxes, Rent, etc.\n",
    "    - Summer = a lot of people are traveling"
   ]
  },
  {
   "cell_type": "markdown",
   "id": "be19656a",
   "metadata": {},
   "source": [
    "- looking at keywords in memos for obvious categorizations:"
   ]
  },
  {
   "cell_type": "code",
   "execution_count": 13,
   "id": "1a47d7ee",
   "metadata": {},
   "outputs": [],
   "source": [
    "category_keywords = {\n",
    "    'GENERAL_MERCHANDISE': ['store', 'mart'],\n",
    "    'FOOD_AND_BEVERAGES': ['tst'],\n",
    "    'GROCERIES': ['groceries', 'supermarket', 'market'],\n",
    "    'TRAVEL': [r'airline|airlines', 'airpt', 'flight', 'hotel', 'travel', 'uber', 'lyft', 'inn'],\n",
    "    'PETS': ['vet', 'pet', 'pets', 'animal', 'grooming'],\n",
    "    'MORTGAGE': ['mortgage', 'home', 'house', 'mtg', 'mortg'],\n",
    "    'OVERDRAFT': ['overdraft', 'insufficient', 'nsf', 'overdrawn'],\n",
    "    'EDUCATION': ['tuition', 'school', 'university', 'course', 'book', 'books', 'college'],\n",
    "    'RENT': ['rent']\n",
    "}\n",
    "\n",
    "def classify_memo(memo):\n",
    "    for category, patterns in category_keywords.items():\n",
    "        for pattern in patterns:\n",
    "            if re.search(pattern, memo):\n",
    "                return category\n",
    "    return 'UNCATEGORIZED'  # Fallback if no keywords match"
   ]
  },
  {
   "cell_type": "markdown",
   "id": "6796bcf0-1e34-4fba-b822-0fffb2e984cb",
   "metadata": {},
   "source": [
    "### Using model on training set:"
   ]
  },
  {
   "cell_type": "code",
   "execution_count": 14,
   "id": "3cdac71e-5747-4896-b0e9-0499d4ca9ac9",
   "metadata": {},
   "outputs": [],
   "source": [
    "columns_to_passthrough = [\n",
    "    'month_name_April', 'month_name_August', 'month_name_December',\n",
    "    'month_name_February', 'month_name_January', 'month_name_July',\n",
    "    'month_name_June', 'month_name_March', 'month_name_May',\n",
    "    'month_name_November', 'month_name_October', 'month_name_September',\n",
    "    'day_name_Friday', 'day_name_Monday', 'day_name_Saturday',\n",
    "    'day_name_Sunday', 'day_name_Thursday', 'day_name_Tuesday',\n",
    "    'day_name_Wednesday', 'is_whole_num'\n",
    "]"
   ]
  },
  {
   "cell_type": "code",
   "execution_count": 15,
   "id": "884185d7-6557-43c4-b201-932e47f10781",
   "metadata": {},
   "outputs": [
    {
     "data": {
      "text/plain": [
       "pred\n",
       "UNCATEGORIZED          84.062126\n",
       "GENERAL_MERCHANDISE     6.180930\n",
       "TRAVEL                  3.502173\n",
       "GROCERIES               2.358781\n",
       "MORTGAGE                1.532546\n",
       "FOOD_AND_BEVERAGES      0.965350\n",
       "PETS                    0.556570\n",
       "OVERDRAFT               0.381564\n",
       "EDUCATION               0.254159\n",
       "RENT                    0.205800\n",
       "Name: proportion, dtype: float64"
      ]
     },
     "execution_count": 15,
     "metadata": {},
     "output_type": "execute_result"
    }
   ],
   "source": [
    "# Apply rule-based classification to categorize entries initially\n",
    "X_train['pred'] = X_train['new_memo'].apply(classify_memo)\n",
    "X_train.pred.value_counts(normalize=True) * 100"
   ]
  },
  {
   "cell_type": "code",
   "execution_count": 16,
   "id": "9b4e047a-d18f-48f4-aff1-2cdcf8ff2592",
   "metadata": {},
   "outputs": [
    {
     "name": "stdout",
     "output_type": "stream",
     "text": [
      "0.5022790976134106\n"
     ]
    }
   ],
   "source": [
    "y_pred = X_train[X_train.pred != 'UNCATEGORIZED']['pred']\n",
    "y_actual = X_train[X_train.pred != 'UNCATEGORIZED']['category']\n",
    "\n",
    "print(np.mean(y_pred == y_actual))"
   ]
  },
  {
   "cell_type": "code",
   "execution_count": 17,
   "id": "3101eeb7-fd23-4f92-86ab-1ccd021ba87d",
   "metadata": {},
   "outputs": [
    {
     "name": "stderr",
     "output_type": "stream",
     "text": [
      "/opt/conda/lib/python3.11/site-packages/sklearn/linear_model/_logistic.py:469: ConvergenceWarning: lbfgs failed to converge (status=1):\n",
      "STOP: TOTAL NO. of ITERATIONS REACHED LIMIT.\n",
      "\n",
      "Increase the number of iterations (max_iter) or scale the data as shown in:\n",
      "    https://scikit-learn.org/stable/modules/preprocessing.html\n",
      "Please also refer to the documentation for alternative solver options:\n",
      "    https://scikit-learn.org/stable/modules/linear_model.html#logistic-regression\n",
      "  n_iter_i = _check_optimize_result(\n"
     ]
    }
   ],
   "source": [
    "# Filter out the uncategorized entries for logistic regression\n",
    "uncategorized_entries = X_train[X_train['pred'] == 'UNCATEGORIZED']\n",
    "use_tfidf_X = uncategorized_entries\n",
    "use_tfidf_Y = uncategorized_entries['category']  # True categories if available\n",
    "\n",
    "preproc = ColumnTransformer(\n",
    "    transformers=[\n",
    "        ('tf-idf', TfidfVectorizer(max_features=1000), 'new_memo'),\n",
    "        ('amount_quantile', Pipeline([\n",
    "             ('quantile_transform', QuantileTransformer(output_distribution='normal')),\n",
    "             ('imputer', SimpleImputer(strategy='mean'))  # Handle NaNs after transformation\n",
    "         ]),\n",
    "         ['amount']),\n",
    "        ('passthrough', FunctionTransformer(lambda x: x), columns_to_passthrough)\n",
    "    ],\n",
    "    remainder='drop'\n",
    ")\n",
    "\n",
    "# Pipeline for TF-IDF and logistic regression to classify uncategorized entries\n",
    "pipeline = Pipeline([\n",
    "    ('preproc', preproc),\n",
    "    ('logreg', LogisticRegression())\n",
    "])\n",
    "pipeline.fit(X_train, y_train)\n",
    "\n",
    "# Predict categories for the uncategorized entries\n",
    "y_pred_train = pipeline.predict(use_tfidf_X)\n",
    "\n",
    "# Impute predictions back into the main DataFrame\n",
    "uncategorized_indices = X_train.index[X_train['pred'] == 'UNCATEGORIZED']\n",
    "X_train.loc[uncategorized_indices, 'pred'] = y_pred_train"
   ]
  },
  {
   "cell_type": "markdown",
   "id": "c1c1c29d-13a2-453d-9214-20daa62ffffe",
   "metadata": {},
   "source": [
    "### Using model on test set:"
   ]
  },
  {
   "cell_type": "code",
   "execution_count": null,
   "id": "1d774baf-ad2f-4701-899d-c410f734e12c",
   "metadata": {},
   "outputs": [
    {
     "name": "stderr",
     "output_type": "stream",
     "text": [
      "/tmp/ipykernel_4064/3605501306.py:1: SettingWithCopyWarning: \n",
      "A value is trying to be set on a copy of a slice from a DataFrame.\n",
      "Try using .loc[row_indexer,col_indexer] = value instead\n",
      "\n",
      "See the caveats in the documentation: https://pandas.pydata.org/pandas-docs/stable/user_guide/indexing.html#returning-a-view-versus-a-copy\n",
      "  X_test['pred'] = X_test['new_memo'].apply(classify_memo)\n"
     ]
    }
   ],
   "source": [
    "X_test['pred'] = X_test['new_memo'].apply(classify_memo)\n",
    "X_test.pred.value_counts(normalize=True) * 100"
   ]
  },
  {
   "cell_type": "code",
   "execution_count": 19,
   "id": "dddb84a5-0277-48d7-9bcd-0e37c5c542ea",
   "metadata": {},
   "outputs": [
    {
     "name": "stdout",
     "output_type": "stream",
     "text": [
      "0.4955384088350924\n"
     ]
    }
   ],
   "source": [
    "y_pred = X_test[X_test.pred != 'UNCATEGORIZED']['pred']\n",
    "y_actual = X_test[X_test.pred != 'UNCATEGORIZED']['category']\n",
    "\n",
    "print(np.mean(y_pred == y_actual))"
   ]
  },
  {
   "cell_type": "code",
   "execution_count": 20,
   "id": "7aa1b84f-61ec-4654-a415-45cd714a34d8",
   "metadata": {},
   "outputs": [
    {
     "name": "stderr",
     "output_type": "stream",
     "text": [
      "/tmp/ipykernel_4064/3100040663.py:1: SettingWithCopyWarning: \n",
      "A value is trying to be set on a copy of a slice from a DataFrame.\n",
      "Try using .loc[row_indexer,col_indexer] = value instead\n",
      "\n",
      "See the caveats in the documentation: https://pandas.pydata.org/pandas-docs/stable/user_guide/indexing.html#returning-a-view-versus-a-copy\n",
      "  X_test['month_name'] = X_test.posted_date.dt.month_name()\n",
      "/tmp/ipykernel_4064/3100040663.py:2: SettingWithCopyWarning: \n",
      "A value is trying to be set on a copy of a slice from a DataFrame.\n",
      "Try using .loc[row_indexer,col_indexer] = value instead\n",
      "\n",
      "See the caveats in the documentation: https://pandas.pydata.org/pandas-docs/stable/user_guide/indexing.html#returning-a-view-versus-a-copy\n",
      "  X_test['day_name'] = X_test.posted_date.dt.day_name()\n"
     ]
    }
   ],
   "source": [
    "X_test['month_name'] = X_test.posted_date.dt.month_name()\n",
    "X_test['day_name'] = X_test.posted_date.dt.day_name()\n",
    "X_test = pd.get_dummies(X_test, columns=['month_name', 'day_name'])\n",
    "X_test['is_whole_num'] = X_test.amount.apply(is_whole)\n",
    "\n",
    "uncategorized_entries = X_test[X_test['pred'] == 'UNCATEGORIZED']\n",
    "use_tfidf_X = uncategorized_entries\n",
    "use_tfidf_Y = uncategorized_entries['category']\n",
    "\n",
    "y_pred_test = pipeline.predict(use_tfidf_X)\n",
    "\n",
    "uncategorized_indices = X_test.index[X_test['pred'] == 'UNCATEGORIZED']\n",
    "X_test.loc[uncategorized_indices, 'pred'] = y_pred_test"
   ]
  },
  {
   "cell_type": "markdown",
   "id": "0d4768ee-fb5f-468c-8443-b4aa1d3d319f",
   "metadata": {},
   "source": [
    "### Metrics:"
   ]
  },
  {
   "cell_type": "code",
   "execution_count": 21,
   "id": "eea082ab-451e-4679-b6a2-5b6f043eae4c",
   "metadata": {},
   "outputs": [],
   "source": [
    "def metrics(y_true, y_pred):\n",
    "    print(classification_report(y_true.values.flatten(), y_pred))\n",
    "    label_classes = np.unique(y_true)\n",
    "\n",
    "    # Create confusion matrix\n",
    "    conf_matrix = confusion_matrix(y_true, y_pred, labels=label_classes)\n",
    "    conf_matrix = conf_matrix.astype('float') / conf_matrix.sum(axis=1, keepdims=True)\n",
    "    # Plot the confusion matrix\n",
    "    plt.figure(figsize=(8, 6))\n",
    "    sns.heatmap(conf_matrix, annot=True, fmt=\".2f\", cmap=\"Blues\", vmin=0, vmax=1, xticklabels=label_classes, yticklabels=label_classes)\n",
    "    plt.xlabel(\"Predicted Labels\")\n",
    "    plt.ylabel(\"True Labels\")\n",
    "    plt.title(\"Category Confusion Matrix\")\n",
    "    plt.show()"
   ]
  },
  {
   "cell_type": "code",
   "execution_count": 22,
   "id": "e9694f39-2201-4a8e-ad57-a5da1debe3c1",
   "metadata": {},
   "outputs": [
    {
     "name": "stdout",
     "output_type": "stream",
     "text": [
      "                     precision    recall  f1-score   support\n",
      "\n",
      "          EDUCATION       0.50      0.43      0.46      3158\n",
      " FOOD_AND_BEVERAGES       0.88      0.90      0.89    340148\n",
      "GENERAL_MERCHANDISE       0.83      0.88      0.86    370569\n",
      "          GROCERIES       0.93      0.66      0.77    153744\n",
      "           MORTGAGE       0.05      1.00      0.10       762\n",
      "          OVERDRAFT       0.71      1.00      0.83      2568\n",
      "               PETS       0.69      0.67      0.68      6566\n",
      "               RENT       0.48      0.68      0.56      2041\n",
      "             TRAVEL       0.86      0.80      0.83     42700\n",
      "\n",
      "           accuracy                           0.85    922256\n",
      "          macro avg       0.66      0.78      0.66    922256\n",
      "       weighted avg       0.86      0.85      0.85    922256\n",
      "\n"
     ]
    },
    {
     "data": {
      "image/png": "[encoded data removed]",
      "text/plain": [
       "<Figure size 800x600 with 2 Axes>"
      ]
     },
     "metadata": {},
     "output_type": "display_data"
    }
   ],
   "source": [
    "metrics(y_train, X_train.pred)"
   ]
  },
  {
   "cell_type": "code",
   "execution_count": 23,
   "id": "73717601-d73c-41e6-b47e-02e9bcdc7e58",
   "metadata": {},
   "outputs": [
    {
     "name": "stdout",
     "output_type": "stream",
     "text": [
      "                     precision    recall  f1-score   support\n",
      "\n",
      "          EDUCATION       0.46      0.41      0.44      1341\n",
      " FOOD_AND_BEVERAGES       0.85      0.90      0.88    141846\n",
      "GENERAL_MERCHANDISE       0.82      0.86      0.84    153494\n",
      "          GROCERIES       0.93      0.64      0.76     65587\n",
      "           MORTGAGE       0.06      0.99      0.11       357\n",
      "          OVERDRAFT       0.66      1.00      0.79       818\n",
      "               PETS       0.66      0.62      0.64      2700\n",
      "               RENT       0.40      0.58      0.48      1106\n",
      "             TRAVEL       0.88      0.79      0.83     16947\n",
      "\n",
      "           accuracy                           0.83    384196\n",
      "          macro avg       0.64      0.75      0.64    384196\n",
      "       weighted avg       0.85      0.83      0.83    384196\n",
      "\n"
     ]
    },
    {
     "data": {
      "image/png": "[encoded data removed]",
      "text/plain": [
       "<Figure size 800x600 with 2 Axes>"
      ]
     },
     "metadata": {},
     "output_type": "display_data"
    }
   ],
   "source": [
    "metrics(y_test, X_test.pred)"
   ]
  },
  {
   "cell_type": "markdown",
   "id": "12ea6ec1",
   "metadata": {},
   "source": [
    "## Boosting Approach:"
   ]
  },
  {
   "cell_type": "markdown",
   "id": "879dfe8d",
   "metadata": {},
   "source": [
    "- Using simple learner such as Logistic Regression:"
   ]
  },
  {
   "cell_type": "code",
   "execution_count": null,
   "id": "261d7c03-ae84-4e1e-9324-ce38adb7b978",
   "metadata": {},
   "outputs": [],
   "source": [
    "base_estimator = LogisticRegression(solver='sag')\n",
    "\n",
    "booster = Pipeline([\n",
    "    ('preprocessor', preproc),\n",
    "    ('booster', AdaBoostClassifier(estimator=base_estimator, n_estimators=50, algorithm='SAMME', random_state=42069))\n",
    "])\n",
    "\n",
    "booster.fit(X_train, y_train)\n",
    "y_pred = booster.predict(X_train)"
   ]
  },
  {
   "cell_type": "code",
   "execution_count": null,
   "id": "940c2648-02e9-446a-9b03-1ecf6ac3690e",
   "metadata": {},
   "outputs": [],
   "source": [
    "metrics(y_train, y_pred)"
   ]
  },
  {
   "cell_type": "code",
   "execution_count": null,
   "id": "2295bad2-fb1d-4567-aa47-856b64bc511a",
   "metadata": {},
   "outputs": [],
   "source": [
    "y_pred = booster.predict(X_test)"
   ]
  },
  {
   "cell_type": "code",
   "execution_count": null,
   "id": "f6d76ef6-b703-4357-8b81-958bb2d9da8b",
   "metadata": {},
   "outputs": [],
   "source": [
    "metrics(y_test, y_pred)"
   ]
  },
  {
   "cell_type": "markdown",
   "id": "b0fb425f",
   "metadata": {},
   "source": [
    "## RoBERTa (Fine-Tuning)"
   ]
  },
  {
   "cell_type": "code",
   "execution_count": null,
   "id": "ae891689",
   "metadata": {},
   "outputs": [],
   "source": [
    "tokenizer = AutoTokenizer.from_pretrained(\"roberta-base\")\n",
    "model     = RobertaForSequenceClassification.from_pretrained(\"roberta-base\", num_labels=9)"
   ]
  },
  {
   "cell_type": "code",
   "execution_count": null,
   "id": "df7f69d1",
   "metadata": {},
   "outputs": [],
   "source": [
    "def tokenize_data(examples):\n",
    "    return tokenizer(examples[\"text\"], padding=\"max_length\", truncation=True)"
   ]
  },
  {
   "cell_type": "code",
   "execution_count": null,
   "id": "7193edd3",
   "metadata": {},
   "outputs": [],
   "source": [
    "train_data = Dataset.from_dict({\"text\": X_train.new_memo, \"label\": y_train})\n",
    "test_data = Dataset.from_dict({\"text\": X_test.new_memo, \"label\": y_test})\n",
    "\n",
    "train_data = train_data.map(tokenize_data, batched=True)\n",
    "test_data = test_data.map(tokenize_data, batched=True)"
   ]
  },
  {
   "cell_type": "code",
   "execution_count": null,
   "id": "f508263f",
   "metadata": {},
   "outputs": [],
   "source": [
    "training_args = TrainingArguments(\n",
    "    output_dir=\"./results\",\n",
    "    eval_strategy=\"epoch\",        # Still evaluate every epoch, if desired\n",
    "    save_strategy=\"no\",           # Disable checkpoint saving\n",
    "    num_train_epochs=5,\n",
    "    per_device_train_batch_size=24,\n",
    "    per_device_eval_batch_size=24,\n",
    ")\n"
   ]
  },
  {
   "cell_type": "code",
   "execution_count": null,
   "id": "ea9dfa61",
   "metadata": {},
   "outputs": [],
   "source": [
    "from sklearn.metrics import accuracy_score, f1_score, precision_score, recall_score\n",
    "\n",
    "def compute_metrics(eval_pred):\n",
    "    logits, labels = eval_pred\n",
    "    predictions = logits.argmax(axis=-1)\n",
    "    \n",
    "    accuracy = accuracy_score(labels, predictions)\n",
    "    f1 = f1_score(labels, predictions, average=\"weighted\")\n",
    "    precision = precision_score(labels, predictions, average=\"weighted\")\n",
    "    recall = recall_score(labels, predictions, average=\"weighted\")\n",
    "    \n",
    "    return {\n",
    "        \"accuracy\": accuracy,\n",
    "        \"f1\": f1,\n",
    "        \"precision\": precision,\n",
    "        \"recall\": recall\n",
    "    }\n",
    "\n",
    "trainer = Trainer(\n",
    "    model=model,\n",
    "    args=training_args,\n",
    "    train_dataset=train_data,\n",
    "    eval_dataset=test_data,\n",
    "    compute_metrics=compute_metrics\n",
    ")\n",
    "\n",
    "trainer.compute_metrics = compute_metrics\n",
    "trainer.evaluate()"
   ]
  }
 ],
 "metadata": {
  "kernelspec": {
   "display_name": "Python 3 (ipykernel)",
   "language": "python",
   "name": "python3"
  },
  "language_info": {
   "codemirror_mode": {
    "name": "ipython",
    "version": 3
   },
   "file_extension": ".py",
   "mimetype": "text/x-python",
   "name": "python",
   "nbconvert_exporter": "python",
   "pygments_lexer": "ipython3",
   "version": "3.11.9"
  }
 },
 "nbformat": 4,
 "nbformat_minor": 5
}
