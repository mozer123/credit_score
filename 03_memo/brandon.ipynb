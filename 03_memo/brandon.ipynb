{
 "cells": [
  {
   "cell_type": "code",
   "execution_count": 1,
   "metadata": {},
   "outputs": [],
   "source": [
    "import numpy as np\n",
    "import pandas as pd\n",
    "import seaborn as sns\n",
    "import matplotlib.pyplot as plt\n",
    "import altair as alt\n",
    "import re\n",
    "from wordcloud import WordCloud"
   ]
  },
  {
   "cell_type": "code",
   "execution_count": 2,
   "metadata": {},
   "outputs": [],
   "source": [
    "outflows = pd.read_parquet('C:/Users/bdion/Downloads/DSC180A/dsc180a/DSC180A/data/ucsd-outflows.pqt')\n",
    "outflows.posted_date = pd.to_datetime(outflows.posted_date, format='%Y-%m-%d')"
   ]
  },
  {
   "cell_type": "code",
   "execution_count": 3,
   "metadata": {},
   "outputs": [
    {
     "data": {
      "text/plain": [
       "0                                               LOAN\n",
       "1                                           ATM_CASH\n",
       "2          TST* Casa Del Rio - Exp Fairlawn OH 09/24\n",
       "3                                               LOAN\n",
       "4                                 Buffalo Wild Wings\n",
       "                             ...                    \n",
       "2597483                                     ATM_CASH\n",
       "2597484                                     ATM_CASH\n",
       "2597485                                     ATM_CASH\n",
       "2597486                                     ATM_CASH\n",
       "2597487                                UNCATEGORIZED\n",
       "Name: memo, Length: 2597488, dtype: object"
      ]
     },
     "execution_count": 3,
     "metadata": {},
     "output_type": "execute_result"
    }
   ],
   "source": [
    "outflows.memo"
   ]
  },
  {
   "cell_type": "markdown",
   "metadata": {},
   "source": [
    "- Take out the XXX that are present \n",
    "    - (real data used won’t have this issue, it was just a way to keep user data confidential)\n",
    "- Consider different spellings/nicknames for places \n",
    "    - (ex: McDonald’s could be Macs, Mickey D’s, 7-eleven, 7/11, etc.)\n",
    "- Either have everything in lower or uppercase\n",
    "- Remove special characters \n",
    "    - Need to be wary of certain ones since we see a pattern\n",
    "where ‘*’ is being used in certain transactions\n",
    "- Take out stopwords\n",
    "    - Advised to NOT use NLTK library to do this, since the memos aren’t complete English grammatical sentences anyways\n",
    "- TST: if present, usually means it belongs to Food & Beverages\n",
    "- POS: tells you it's not a check, but that's about it\n",
    "- Some memos have the word withdrawl combined with brand names:\n",
    "    - ex: POS WITHDRAWALWAL-MART #XXXX XXXX E MCKELLIPS RD MESA AZ  Card 15 #XXXX  MCC XXXX\n",
    "    - ex: POS WITHDRAWALARCO #XXXXX AMPM XXXXX N 19TH US PHOENIX AZ  Card 15 #XXXX  MCC XXXX"
   ]
  },
  {
   "cell_type": "markdown",
   "metadata": {},
   "source": [
    "## Data Cleaning:"
   ]
  },
  {
   "cell_type": "code",
   "execution_count": 4,
   "metadata": {},
   "outputs": [
    {
     "data": {
      "text/plain": [
       "0                                               LOAN\n",
       "1                                           ATM_CASH\n",
       "2          TST* Casa Del Rio - Exp Fairlawn OH 09/24\n",
       "3                                               LOAN\n",
       "4                                 Buffalo Wild Wings\n",
       "                             ...                    \n",
       "2597483                                     ATM_CASH\n",
       "2597484                                     ATM_CASH\n",
       "2597485                                     ATM_CASH\n",
       "2597486                                     ATM_CASH\n",
       "2597487                                UNCATEGORIZED\n",
       "Name: memo, Length: 2597488, dtype: object"
      ]
     },
     "execution_count": 4,
     "metadata": {},
     "output_type": "execute_result"
    }
   ],
   "source": [
    "outflows.memo"
   ]
  },
  {
   "cell_type": "markdown",
   "metadata": {},
   "source": [
    "- '/' used for urls, dates, phone #'s, etc.\n",
    "    - '-' are used for dates as well\n",
    "- need to consider misspellings \n",
    "    - ex: 'APPLE CASH - SENT MONE'"
   ]
  },
  {
   "cell_type": "code",
   "execution_count": 5,
   "metadata": {},
   "outputs": [],
   "source": [
    "# for x in outflows[outflows.memo.str.lower().str.contains(r'[^ a-z0-9]')]['memo'].unique(): print(x)"
   ]
  },
  {
   "cell_type": "markdown",
   "metadata": {},
   "source": [
    "r'\\*(\\S)': \n",
    "- This regex pattern matches * followed by a non-whitespace character (\\S). (\\S) captures the character following the *."
   ]
  },
  {
   "cell_type": "markdown",
   "metadata": {},
   "source": [
    "r' \\1': \n",
    "- The \\1 refers to the captured group (the character that follows the *), and we replace * with a space followed by that captured character."
   ]
  },
  {
   "cell_type": "code",
   "execution_count": 6,
   "metadata": {},
   "outputs": [
    {
     "name": "stdout",
     "output_type": "stream",
     "text": [
      "0    mgm betmgm cr & db\n",
      "dtype: object\n",
      "0    'AUDIBLE 2G2TU0RJ0 AMZN.COM/BILLNJUS'\n",
      "dtype: object\n"
     ]
    }
   ],
   "source": [
    "data = pd.Series([\"mgm*betmgm cr & db\"])\n",
    "print(data.str.replace(r'\\*(\\S)', r' \\1', regex=True))\n",
    "\n",
    "data = pd.Series([\"'AUDIBLE*2G2TU0RJ0 AMZN.COM/BILLNJUS'\"])\n",
    "print(data.str.replace(r'\\*(\\S)', r' \\1', regex=True))"
   ]
  },
  {
   "cell_type": "code",
   "execution_count": 7,
   "metadata": {},
   "outputs": [
    {
     "data": {
      "text/plain": [
       "0                                            loan\n",
       "1                                        atm cash\n",
       "2          tst casa del rio exp fairlawn oh 09 24\n",
       "3                                            loan\n",
       "4                              buffalo wild wings\n",
       "                            ...                  \n",
       "2597483                                  atm cash\n",
       "2597484                                  atm cash\n",
       "2597485                                  atm cash\n",
       "2597486                                  atm cash\n",
       "2597487                             uncategorized\n",
       "Name: memo, Length: 2597488, dtype: object"
      ]
     },
     "execution_count": 7,
     "metadata": {},
     "output_type": "execute_result"
    }
   ],
   "source": [
    "outflows.memo = outflows.memo.str.lower().str.replace(r'\\*(\\S)', r' \\1', regex=True) # Remove all '*' but gotta check if there's any alphanumerics right after it\n",
    "outflows.memo = outflows.memo.str.replace(r'[^a-z0-9]', ' ', regex=True)             # Remove all special chars\n",
    "outflows.memo = outflows.memo.str.replace(r'withdrawal', 'withdrawal ', regex=True)  # Fixing the withdrawal rows\n",
    "# outflows.memo = outflows.memo.str.replace(r'', '', regex=True)  # Might need to address diff names/abbrevirtions of brand names/words\n",
    "outflows.memo = outflows.memo.str.replace(r'\\s+', ' ', regex=True).str.strip()       # Remove any extra whitespace\n",
    "outflows.memo"
   ]
  },
  {
   "cell_type": "code",
   "execution_count": 8,
   "metadata": {},
   "outputs": [
    {
     "data": {
      "text/plain": [
       "69909         apple cash sent mone 877 2 33 xxxx caxxxx xxxx\n",
       "69931         apple cash sent mone 877 2 33 xxxx caxxxx xxxx\n",
       "331286        apple cash sent mone 877 2 33 xxxx caxxxx xxxx\n",
       "406282     pos withdrawal apple cash se memo pos withdraw...\n",
       "443409     pos withdrawal apple cash se memo pos withdraw...\n",
       "                                 ...                        \n",
       "2498171                                 apple cash sent mone\n",
       "2498172                                 apple cash sent mone\n",
       "2498264                                 apple cash sent mone\n",
       "2533987                                 apple cash sent mone\n",
       "2570193                                 apple cash sent mone\n",
       "Name: memo, Length: 996, dtype: object"
      ]
     },
     "execution_count": 8,
     "metadata": {},
     "output_type": "execute_result"
    }
   ],
   "source": [
    "outflows[outflows.memo.str.contains('sent mone')]['memo']"
   ]
  },
  {
   "cell_type": "code",
   "execution_count": null,
   "metadata": {},
   "outputs": [],
   "source": []
  }
 ],
 "metadata": {
  "kernelspec": {
   "display_name": "base",
   "language": "python",
   "name": "python3"
  },
  "language_info": {
   "codemirror_mode": {
    "name": "ipython",
    "version": 3
   },
   "file_extension": ".py",
   "mimetype": "text/x-python",
   "name": "python",
   "nbconvert_exporter": "python",
   "pygments_lexer": "ipython3",
   "version": "3.11.5"
  }
 },
 "nbformat": 4,
 "nbformat_minor": 2
}
