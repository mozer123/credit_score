{
 "cells": [
  {
   "cell_type": "markdown",
   "metadata": {},
   "source": [
    "# Clean \"memo\" Column\n",
    "1) Clean the memo fields\n",
    "2) Analyze memo fields"
   ]
  },
  {
   "cell_type": "markdown",
   "metadata": {},
   "source": [
    "## Requirements"
   ]
  },
  {
   "cell_type": "code",
   "execution_count": 1,
   "metadata": {},
   "outputs": [],
   "source": [
    "import pandas as pd\n",
    "pd.set_option('display.float_format', '{:.4f}'.format)\n",
    "# from sklearn.model_selection import train_test_split"
   ]
  },
  {
   "cell_type": "markdown",
   "metadata": {},
   "source": [
    "## Read Data"
   ]
  },
  {
   "cell_type": "code",
   "execution_count": 2,
   "metadata": {},
   "outputs": [
    {
     "name": "stdout",
     "output_type": "stream",
     "text": [
      "\n",
      "Outflow Data\n"
     ]
    },
    {
     "data": {
      "text/html": [
       "<div>\n",
       "<style scoped>\n",
       "    .dataframe tbody tr th:only-of-type {\n",
       "        vertical-align: middle;\n",
       "    }\n",
       "\n",
       "    .dataframe tbody tr th {\n",
       "        vertical-align: top;\n",
       "    }\n",
       "\n",
       "    .dataframe thead th {\n",
       "        text-align: right;\n",
       "    }\n",
       "</style>\n",
       "<table border=\"1\" class=\"dataframe\">\n",
       "  <thead>\n",
       "    <tr style=\"text-align: right;\">\n",
       "      <th></th>\n",
       "      <th>prism_consumer_id</th>\n",
       "      <th>prism_account_id</th>\n",
       "      <th>memo</th>\n",
       "      <th>amount</th>\n",
       "      <th>posted_date</th>\n",
       "      <th>category</th>\n",
       "    </tr>\n",
       "  </thead>\n",
       "  <tbody>\n",
       "    <tr>\n",
       "      <th>0</th>\n",
       "      <td>0</td>\n",
       "      <td>acc_0</td>\n",
       "      <td>LOAN</td>\n",
       "      <td>900.6000</td>\n",
       "      <td>2022-07-05</td>\n",
       "      <td>LOAN</td>\n",
       "    </tr>\n",
       "    <tr>\n",
       "      <th>1</th>\n",
       "      <td>0</td>\n",
       "      <td>acc_0</td>\n",
       "      <td>ATM_CASH</td>\n",
       "      <td>80.0000</td>\n",
       "      <td>2022-03-25</td>\n",
       "      <td>ATM_CASH</td>\n",
       "    </tr>\n",
       "    <tr>\n",
       "      <th>2</th>\n",
       "      <td>0</td>\n",
       "      <td>acc_0</td>\n",
       "      <td>TST* Casa Del Rio - Exp Fairlawn OH 09/24</td>\n",
       "      <td>18.4200</td>\n",
       "      <td>2022-09-26</td>\n",
       "      <td>FOOD_AND_BEVERAGES</td>\n",
       "    </tr>\n",
       "    <tr>\n",
       "      <th>3</th>\n",
       "      <td>0</td>\n",
       "      <td>acc_0</td>\n",
       "      <td>LOAN</td>\n",
       "      <td>634.0000</td>\n",
       "      <td>2023-01-10</td>\n",
       "      <td>LOAN</td>\n",
       "    </tr>\n",
       "    <tr>\n",
       "      <th>4</th>\n",
       "      <td>0</td>\n",
       "      <td>acc_0</td>\n",
       "      <td>Buffalo Wild Wings</td>\n",
       "      <td>26.4700</td>\n",
       "      <td>2022-09-12</td>\n",
       "      <td>FOOD_AND_BEVERAGES</td>\n",
       "    </tr>\n",
       "  </tbody>\n",
       "</table>\n",
       "</div>"
      ],
      "text/plain": [
       "   prism_consumer_id prism_account_id  \\\n",
       "0                  0            acc_0   \n",
       "1                  0            acc_0   \n",
       "2                  0            acc_0   \n",
       "3                  0            acc_0   \n",
       "4                  0            acc_0   \n",
       "\n",
       "                                        memo   amount posted_date  \\\n",
       "0                                       LOAN 900.6000  2022-07-05   \n",
       "1                                   ATM_CASH  80.0000  2022-03-25   \n",
       "2  TST* Casa Del Rio - Exp Fairlawn OH 09/24  18.4200  2022-09-26   \n",
       "3                                       LOAN 634.0000  2023-01-10   \n",
       "4                         Buffalo Wild Wings  26.4700  2022-09-12   \n",
       "\n",
       "             category  \n",
       "0                LOAN  \n",
       "1            ATM_CASH  \n",
       "2  FOOD_AND_BEVERAGES  \n",
       "3                LOAN  \n",
       "4  FOOD_AND_BEVERAGES  "
      ]
     },
     "metadata": {},
     "output_type": "display_data"
    }
   ],
   "source": [
    "outflow_df = pd.read_parquet('ucsd-outflows.pqt')\n",
    "\n",
    "print(\"\\nOutflow Data\")\n",
    "display(outflow_df.head())"
   ]
  },
  {
   "cell_type": "code",
   "execution_count": 3,
   "metadata": {},
   "outputs": [
    {
     "data": {
      "text/plain": [
       "array(['LOAN', 'ATM_CASH', 'TST* Casa Del Rio - Exp Fairlawn OH 09/24',\n",
       "       'Buffalo Wild Wings', 'ENTERTAINMENT', 'Oculus CA 04/16',\n",
       "       'LOS GIRASOLES STOW OH 03/08', 'BUZZIS LAUNDRY 1 OH 03/28',\n",
       "       'BUZZIS LAUNDRY 1 OH 02/13', 'TGI FRIDAYS XXXX STOW OH 12/31',\n",
       "       'TST* The Basement Sp Cuyahoga Fall OH 06/06', \"Lowe's\",\n",
       "       'PIADA - 39 OH 08/23', 'GrubHub', 'ESSENTIAL_SERVICES',\n",
       "       'HARDEES XXXXXXX AKRON OH 05/29',\n",
       "       'MARKET DI XXXX State Cuyahoga Fall OH 04/06',\n",
       "       'SWENSONS - MONTROSE AKRON OH 06/29', 'Great Clips',\n",
       "       'EXTERNAL_TRANSFER', 'APPLE.COM/BILL CA 04/07', 'AUTOMOTIVE',\n",
       "       'APPLE.COM/BILL CA 04/29', 'APPLE.COM/BILL CA 01/28',\n",
       "       'UNCATEGORIZED', 'LOS GIRASOLES STOW OH 05/24',\n",
       "       'WING WAREHOUSE CUYAH CUYAHOGA FALL OH 03/29',\n",
       "       'WINKING LIZARD - 30 MA OH 05/23',\n",
       "       'LONGHORN STEAK XXXXX CUYAHOGA FALL OH 10/09',\n",
       "       'ON TAP - CUYAHOGA FA CUYAHOGA FALL OH 12/06'], dtype=object)"
      ]
     },
     "execution_count": 3,
     "metadata": {},
     "output_type": "execute_result"
    }
   ],
   "source": [
    "# Extracting the \"memo\" fields from the dataframe to analyze how to clean them\n",
    "memo_fields = outflow_df[\"memo\"].unique()\n",
    "\n",
    "# Displaying a sample of the memo fields to understand the structure of the data\n",
    "sample_memo_fields = memo_fields[:30]\n",
    "sample_memo_fields"
   ]
  },
  {
   "cell_type": "code",
   "execution_count": 4,
   "metadata": {},
   "outputs": [
    {
     "name": "stdout",
     "output_type": "stream",
     "text": [
      "Total unique memo fields: 528786\n",
      "Memo fields have been saved to 'unique_memo.txt'\n"
     ]
    }
   ],
   "source": [
    "# Save the unique memo fields to a text file\n",
    "with open('memos/unique_memo.txt', 'w') as file:\n",
    "    for memo in memo_fields:\n",
    "        file.write(memo + '\\n')\n",
    "\n",
    "# Print the number of unique memo fields\n",
    "print(f\"Total unique memo fields: {len(memo_fields)}\")\n",
    "print(\"Memo fields have been saved to 'unique_memo.txt'\")\n"
   ]
  },
  {
   "cell_type": "markdown",
   "metadata": {},
   "source": [
    "## Clean memo"
   ]
  },
  {
   "cell_type": "code",
   "execution_count": 5,
   "metadata": {},
   "outputs": [
    {
     "name": "stdout",
     "output_type": "stream",
     "text": [
      "Cleaned 2597488 memo fields and saved to 'cleaned_memo.txt'.\n"
     ]
    }
   ],
   "source": [
    "import re\n",
    "\n",
    "def clean_memo(memo):\n",
    "    # Convert to lowercase\n",
    "    memo = memo.lower()\n",
    "    \n",
    "    # Replace redacted information (e.g., 'xxxx', 'xxxxxxxxxxxxxxx') with 'xxx'\n",
    "    memo = re.sub(r'xxx+', 'xxx', memo)\n",
    "    \n",
    "    # Replace dates (e.g., '09/24') with a space\n",
    "    memo = re.sub(r'\\d{1,2}/\\d{1,2}', ' ', memo)\n",
    "    \n",
    "    # Replace digits and special characters with a space\n",
    "    memo = re.sub(r'[^a-z\\s]', ' ', memo)\n",
    "    \n",
    "    # Replace multiple spaces with a single space\n",
    "    memo = re.sub(r'\\s+', ' ', memo).strip()\n",
    "    \n",
    "    return memo\n",
    "\n",
    "# Apply the cleaning function to the 'memo' column\n",
    "outflow_df['cleaned_memo'] = outflow_df['memo'].apply(clean_memo)\n",
    "\n",
    "# Save the cleaned memos to a text file\n",
    "outflow_df['cleaned_memo'].to_csv('memos/cleaned_memo.txt', index=False, header=False)\n",
    "\n",
    "print(f\"Cleaned {len(outflow_df)} memo fields and saved to 'cleaned_memo.txt'.\")"
   ]
  },
  {
   "cell_type": "markdown",
   "metadata": {},
   "source": [
    "## Comparison Table"
   ]
  },
  {
   "cell_type": "code",
   "execution_count": 6,
   "metadata": {},
   "outputs": [
    {
     "name": "stdout",
     "output_type": "stream",
     "text": [
      "                               Original Memo                      Cleaned Memo\n",
      "0                                       LOAN                              loan\n",
      "1                                   ATM_CASH                          atm cash\n",
      "2  TST* Casa Del Rio - Exp Fairlawn OH 09/24  tst casa del rio exp fairlawn oh\n",
      "3                                       LOAN                              loan\n",
      "4                         Buffalo Wild Wings                buffalo wild wings\n",
      "5                              ENTERTAINMENT                     entertainment\n",
      "6                            Oculus CA 04/16                         oculus ca\n",
      "7                LOS GIRASOLES STOW OH 03/08             los girasoles stow oh\n",
      "8                  BUZZIS LAUNDRY 1 OH 03/28                 buzzis laundry oh\n",
      "9                  BUZZIS LAUNDRY 1 OH 02/13                 buzzis laundry oh\n"
     ]
    }
   ],
   "source": [
    "# Create a DataFrame with original and cleaned memos side by side\n",
    "comparison_df = pd.DataFrame({\n",
    "    'Original Memo': outflow_df['memo'],\n",
    "    'Cleaned Memo': outflow_df['cleaned_memo']\n",
    "})\n",
    "\n",
    "# Optionally, display the first few rows for a quick comparison\n",
    "print(comparison_df.head(10))\n",
    "\n",
    "# Save the comparison to a CSV or TXT file if needed\n",
    "comparison_df.to_csv('memo_comparison.csv', index=False)"
   ]
  },
  {
   "cell_type": "code",
   "execution_count": null,
   "metadata": {},
   "outputs": [],
   "source": []
  }
 ],
 "metadata": {
  "kernelspec": {
   "display_name": "Python 3",
   "language": "python",
   "name": "python3"
  },
  "language_info": {
   "codemirror_mode": {
    "name": "ipython",
    "version": 3
   },
   "file_extension": ".py",
   "mimetype": "text/x-python",
   "name": "python",
   "nbconvert_exporter": "python",
   "pygments_lexer": "ipython3",
   "version": "3.12.4"
  }
 },
 "nbformat": 4,
 "nbformat_minor": 4
}
