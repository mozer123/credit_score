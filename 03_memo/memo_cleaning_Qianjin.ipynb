{
 "cells": [
  {
   "cell_type": "markdown",
   "metadata": {},
   "source": [
    "# WEEK 3: Memo Text Cleaning"
   ]
  },
  {
   "cell_type": "code",
   "execution_count": null,
   "metadata": {},
   "outputs": [],
   "source": [
    "# Import libraries\n",
    "import pandas as pd\n",
    "import numpy as np\n",
    "import re\n",
    "from sklearn.model_selection import train_test_split"
   ]
  },
  {
   "cell_type": "code",
   "execution_count": null,
   "metadata": {},
   "outputs": [],
   "source": [
    "# Read datasets\n",
    "outflow = pd.read_parquet(\"ucsd-outflows.pqt\")\n",
    "inflow = pd.read_parquet(\"ucsd-inflows.pqt\")"
   ]
  },
  {
   "cell_type": "code",
   "execution_count": null,
   "metadata": {},
   "outputs": [],
   "source": [
    "# Filter out rows with 'memo' uncleaned\n",
    "outflow_uncleaned = outflow[outflow['memo'] != outflow['category']]\n",
    "\n",
    "# Lower case all values in memo\n",
    "outflow_uncleaned.loc[:, 'memo'] = outflow_uncleaned['memo'].apply(lambda x: x.lower())\n",
    "\n",
    "# Remove special characters and numbers\n",
    "outflow_uncleaned.loc[:, 'memo'] = outflow_uncleaned['memo'].apply(lambda x: re.sub(r'[^a-z\\s]', ' ', x))\n",
    "\n",
    "# Remove placeholders\n",
    "outflow_uncleaned.loc[:, 'memo'] = outflow_uncleaned['memo'].apply(lambda x: re.sub(r'xxx+', ' ', x))\n",
    "\n",
    "# Remove extra spaces\n",
    "outflow_uncleaned.loc[:, 'memo'] = outflow_uncleaned['memo'].apply(lambda x: re.sub(r'\\s+', ' ', x).strip())\n",
    "\n",
    "# Observe the first 5000 rows of the cleaned 'memo' column \n",
    "print(outflow_uncleaned.iloc[:5000, :]['memo'].to_string())"
   ]
  },
  {
   "cell_type": "code",
   "execution_count": null,
   "metadata": {},
   "outputs": [],
   "source": [
    "#Format the outflow dataset\n",
    "outflow_cleaned = outflow[outflow['memo'] == outflow['category']]\n",
    "outflow_memo = pd.concat([outflow_uncleaned, outflow_cleaned]).sort_index()\n",
    "outflow_memo['memo_default'] = outflow['memo']\n",
    "outflow_memo = outflow_memo[['prism_consumer_id', 'prism_account_id', 'memo_default', 'memo','amount', 'posted_date', 'category']]\n",
    "outflow_memo"
   ]
  }
 ],
 "metadata": {
  "language_info": {
   "name": "python"
  }
 },
 "nbformat": 4,
 "nbformat_minor": 2
}
